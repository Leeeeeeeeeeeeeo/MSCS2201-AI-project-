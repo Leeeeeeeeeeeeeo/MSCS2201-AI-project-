{
 "cells": [
  {
   "cell_type": "code",
   "execution_count": null,
   "id": "aba998f8",
   "metadata": {},
   "outputs": [],
   "source": [
    "import pandas as pd\n",
    "import matplotlib.pyplot as plt\n",
    "\n",
    "# Step 1: Load Dataset\n",
    "# Load the healthcare dataset\n",
    "data = pd.read_csv(\"/Users/dashuaile/Desktop/个人文件/作业/AI/healthcare_dataset.csv\")\n",
    "\n",
    "# Define Features and Target\n",
    "# Using \"Test Results\" as the target column (binary classification: Normal/Abnormal)\n",
    "target_column = 'Test Results'\n",
    "X = data.drop(columns=[target_column])\n",
    "y = data[target_column]\n",
    "\n",
    "# Convert categorical features to numeric\n",
    "X = pd.get_dummies(X, drop_first=True)\n",
    "y = y.map({\"Normal\": 0, \"Abnormal\": 1})  # Encode target as binary (0: Normal, 1: Abnormal)\n",
    "\n",
    "# Calculate Feature Importance (Using Mean and Correlation as a Simple Proxy)\n",
    "feature_importances = X.corrwith(y).abs()\n",
    "\n",
    "# Plot Feature Importances\n",
    "features = feature_importances.index\n",
    "plt.figure(figsize=(10, 6))\n",
    "plt.title(\"Feature Importances (Correlation with Target)\")\n",
    "plt.bar(features, feature_importances, align=\"center\")\n",
    "plt.xticks(rotation=45)\n",
    "plt.tight_layout()\n",
    "plt.savefig('feature_importances.png')\n",
    "plt.show()\n",
    "\n",
    "# Save Results\n",
    "# Save important features for reporting\n",
    "important_features = pd.DataFrame({\n",
    "    \"Feature\": features,\n",
    "    \"Importance\": feature_importances\n",
    "}).sort_values(by=\"Importance\", ascending=False)\n",
    "important_features.to_csv(\"important_features.csv\", index=False)\n",
    "\n",
    "print(\"Feature importance plot saved as 'feature_importances.png'.\")\n"
   ]
  },
  {
   "cell_type": "code",
   "execution_count": null,
   "id": "937653a3",
   "metadata": {},
   "outputs": [],
   "source": []
  },
  {
   "cell_type": "code",
   "execution_count": null,
   "id": "af0846ff",
   "metadata": {},
   "outputs": [],
   "source": []
  }
 ],
 "metadata": {
  "kernelspec": {
   "display_name": "Python 3 (ipykernel)",
   "language": "python",
   "name": "python3"
  },
  "language_info": {
   "codemirror_mode": {
    "name": "ipython",
    "version": 3
   },
   "file_extension": ".py",
   "mimetype": "text/x-python",
   "name": "python",
   "nbconvert_exporter": "python",
   "pygments_lexer": "ipython3",
   "version": "3.11.5"
  }
 },
 "nbformat": 4,
 "nbformat_minor": 5
}
